{
 "cells": [
  {
   "cell_type": "markdown",
   "id": "e6edbc35-27d8-4747-8ff2-5da9e3f57d2a",
   "metadata": {
    "tags": []
   },
   "source": [
    "# May 23 2023\n",
    "# BAG_OF_WORDS"
   ]
  },
  {
   "cell_type": "code",
   "execution_count": 1,
   "id": "598fe9f1-01be-49f0-b51a-a9da4785c342",
   "metadata": {
    "tags": []
   },
   "outputs": [],
   "source": [
    "import numpy as np\n",
    "from sklearn.feature_extraction.text import CountVectorizer"
   ]
  },
  {
   "cell_type": "code",
   "execution_count": 2,
   "id": "6cdd12f1-1a4a-4921-8fa0-d7b88c15caf9",
   "metadata": {
    "tags": []
   },
   "outputs": [],
   "source": [
    "text_data = np.array(['I love Brazil, Brazil!', 'Sweden is best','Germany beats both'])\n",
    "count = CountVectorizer()\n",
    "bag_of_words = count.fit_transform(text_data)"
   ]
  },
  {
   "cell_type": "code",
   "execution_count": 3,
   "id": "ca27d63c-403a-4a40-a6f5-7bea46d6824c",
   "metadata": {
    "tags": []
   },
   "outputs": [
    {
     "data": {
      "text/plain": [
       "<3x8 sparse matrix of type '<class 'numpy.int64'>'\n",
       "\twith 8 stored elements in Compressed Sparse Row format>"
      ]
     },
     "execution_count": 3,
     "metadata": {},
     "output_type": "execute_result"
    }
   ],
   "source": [
    "bag_of_words"
   ]
  },
  {
   "cell_type": "code",
   "execution_count": 4,
   "id": "eb7047ab-f94c-42c5-8320-2c4f9496beb1",
   "metadata": {
    "tags": []
   },
   "outputs": [
    {
     "data": {
      "text/plain": [
       "array(['beats', 'best', 'both', 'brazil', 'germany', 'is', 'love',\n",
       "       'sweden'], dtype=object)"
      ]
     },
     "execution_count": 4,
     "metadata": {},
     "output_type": "execute_result"
    }
   ],
   "source": [
    "count.get_feature_names_out()"
   ]
  },
  {
   "cell_type": "code",
   "execution_count": 5,
   "id": "6f9cb6c4-6b9a-4fc8-8674-15e7af9f7931",
   "metadata": {
    "tags": []
   },
   "outputs": [
    {
     "data": {
      "text/plain": [
       "array([[0, 0, 0, 2, 0, 0, 1, 0],\n",
       "       [0, 1, 0, 0, 0, 1, 0, 1],\n",
       "       [1, 0, 1, 0, 1, 0, 0, 0]])"
      ]
     },
     "execution_count": 5,
     "metadata": {},
     "output_type": "execute_result"
    }
   ],
   "source": [
    "bag_of_words.toarray()"
   ]
  },
  {
   "cell_type": "code",
   "execution_count": 6,
   "id": "c4b24238-f954-4332-9823-c4990ea068c1",
   "metadata": {
    "tags": []
   },
   "outputs": [
    {
     "data": {
      "text/html": [
       "<div>\n",
       "<style scoped>\n",
       "    .dataframe tbody tr th:only-of-type {\n",
       "        vertical-align: middle;\n",
       "    }\n",
       "\n",
       "    .dataframe tbody tr th {\n",
       "        vertical-align: top;\n",
       "    }\n",
       "\n",
       "    .dataframe thead th {\n",
       "        text-align: right;\n",
       "    }\n",
       "</style>\n",
       "<table border=\"1\" class=\"dataframe\">\n",
       "  <thead>\n",
       "    <tr style=\"text-align: right;\">\n",
       "      <th></th>\n",
       "      <th>beats</th>\n",
       "      <th>best</th>\n",
       "      <th>both</th>\n",
       "      <th>brazil</th>\n",
       "      <th>germany</th>\n",
       "      <th>is</th>\n",
       "      <th>love</th>\n",
       "      <th>sweden</th>\n",
       "    </tr>\n",
       "  </thead>\n",
       "  <tbody>\n",
       "    <tr>\n",
       "      <th>0</th>\n",
       "      <td>0</td>\n",
       "      <td>0</td>\n",
       "      <td>0</td>\n",
       "      <td>2</td>\n",
       "      <td>0</td>\n",
       "      <td>0</td>\n",
       "      <td>1</td>\n",
       "      <td>0</td>\n",
       "    </tr>\n",
       "    <tr>\n",
       "      <th>1</th>\n",
       "      <td>0</td>\n",
       "      <td>1</td>\n",
       "      <td>0</td>\n",
       "      <td>0</td>\n",
       "      <td>0</td>\n",
       "      <td>1</td>\n",
       "      <td>0</td>\n",
       "      <td>1</td>\n",
       "    </tr>\n",
       "    <tr>\n",
       "      <th>2</th>\n",
       "      <td>1</td>\n",
       "      <td>0</td>\n",
       "      <td>1</td>\n",
       "      <td>0</td>\n",
       "      <td>1</td>\n",
       "      <td>0</td>\n",
       "      <td>0</td>\n",
       "      <td>0</td>\n",
       "    </tr>\n",
       "  </tbody>\n",
       "</table>\n",
       "</div>"
      ],
      "text/plain": [
       "   beats  best  both  brazil  germany  is  love  sweden\n",
       "0      0     0     0       2        0   0     1       0\n",
       "1      0     1     0       0        0   1     0       1\n",
       "2      1     0     1       0        1   0     0       0"
      ]
     },
     "execution_count": 6,
     "metadata": {},
     "output_type": "execute_result"
    }
   ],
   "source": [
    "#Unigram\n",
    "#bag_of_words array in to dataframe\n",
    "cf = count.get_feature_names_out()\n",
    "BOG = bag_of_words.toarray()\n",
    "\n",
    "import pandas as pd\n",
    "df = pd.DataFrame(BOG, columns = cf)\n",
    "df"
   ]
  },
  {
   "cell_type": "code",
   "execution_count": 7,
   "id": "f801dbc3-2041-4339-9e26-2fb1b6968ab3",
   "metadata": {
    "tags": []
   },
   "outputs": [],
   "source": [
    "#bigram\n",
    "\n",
    "count = CountVectorizer(ngram_range=(1,2))\n",
    "bag_of_words = count.fit_transform(text_data)"
   ]
  },
  {
   "cell_type": "code",
   "execution_count": 8,
   "id": "c1ada761-ca85-4f25-a051-fe26cec618a8",
   "metadata": {
    "tags": []
   },
   "outputs": [],
   "source": [
    "#bag_of_words array in to dataframe\n",
    "cff = count.get_feature_names_out()\n",
    "BOG = bag_of_words.toarray()"
   ]
  },
  {
   "cell_type": "code",
   "execution_count": 9,
   "id": "ca39de0c-4ea2-403e-a58d-cf8606f232d6",
   "metadata": {
    "tags": []
   },
   "outputs": [
    {
     "data": {
      "text/html": [
       "<div>\n",
       "<style scoped>\n",
       "    .dataframe tbody tr th:only-of-type {\n",
       "        vertical-align: middle;\n",
       "    }\n",
       "\n",
       "    .dataframe tbody tr th {\n",
       "        vertical-align: top;\n",
       "    }\n",
       "\n",
       "    .dataframe thead th {\n",
       "        text-align: right;\n",
       "    }\n",
       "</style>\n",
       "<table border=\"1\" class=\"dataframe\">\n",
       "  <thead>\n",
       "    <tr style=\"text-align: right;\">\n",
       "      <th></th>\n",
       "      <th>beats</th>\n",
       "      <th>beats both</th>\n",
       "      <th>best</th>\n",
       "      <th>both</th>\n",
       "      <th>brazil</th>\n",
       "      <th>brazil brazil</th>\n",
       "      <th>germany</th>\n",
       "      <th>germany beats</th>\n",
       "      <th>is</th>\n",
       "      <th>is best</th>\n",
       "      <th>love</th>\n",
       "      <th>love brazil</th>\n",
       "      <th>sweden</th>\n",
       "      <th>sweden is</th>\n",
       "    </tr>\n",
       "  </thead>\n",
       "  <tbody>\n",
       "    <tr>\n",
       "      <th>0</th>\n",
       "      <td>0</td>\n",
       "      <td>0</td>\n",
       "      <td>0</td>\n",
       "      <td>0</td>\n",
       "      <td>2</td>\n",
       "      <td>1</td>\n",
       "      <td>0</td>\n",
       "      <td>0</td>\n",
       "      <td>0</td>\n",
       "      <td>0</td>\n",
       "      <td>1</td>\n",
       "      <td>1</td>\n",
       "      <td>0</td>\n",
       "      <td>0</td>\n",
       "    </tr>\n",
       "    <tr>\n",
       "      <th>1</th>\n",
       "      <td>0</td>\n",
       "      <td>0</td>\n",
       "      <td>1</td>\n",
       "      <td>0</td>\n",
       "      <td>0</td>\n",
       "      <td>0</td>\n",
       "      <td>0</td>\n",
       "      <td>0</td>\n",
       "      <td>1</td>\n",
       "      <td>1</td>\n",
       "      <td>0</td>\n",
       "      <td>0</td>\n",
       "      <td>1</td>\n",
       "      <td>1</td>\n",
       "    </tr>\n",
       "    <tr>\n",
       "      <th>2</th>\n",
       "      <td>1</td>\n",
       "      <td>1</td>\n",
       "      <td>0</td>\n",
       "      <td>1</td>\n",
       "      <td>0</td>\n",
       "      <td>0</td>\n",
       "      <td>1</td>\n",
       "      <td>1</td>\n",
       "      <td>0</td>\n",
       "      <td>0</td>\n",
       "      <td>0</td>\n",
       "      <td>0</td>\n",
       "      <td>0</td>\n",
       "      <td>0</td>\n",
       "    </tr>\n",
       "  </tbody>\n",
       "</table>\n",
       "</div>"
      ],
      "text/plain": [
       "   beats  beats both  best  both  brazil  brazil brazil  germany  \\\n",
       "0      0           0     0     0       2              1        0   \n",
       "1      0           0     1     0       0              0        0   \n",
       "2      1           1     0     1       0              0        1   \n",
       "\n",
       "   germany beats  is  is best  love  love brazil  sweden  sweden is  \n",
       "0              0   0        0     1            1       0          0  \n",
       "1              0   1        1     0            0       1          1  \n",
       "2              1   0        0     0            0       0          0  "
      ]
     },
     "execution_count": 9,
     "metadata": {},
     "output_type": "execute_result"
    }
   ],
   "source": [
    "import pandas as pd\n",
    "df = pd.DataFrame(BOG, columns = cff)\n",
    "df"
   ]
  },
  {
   "cell_type": "markdown",
   "id": "6d320ebb-733f-441c-ab11-753ceafc139c",
   "metadata": {},
   "source": [
    "### TF-IDF\n",
    "## Term Frequency Inverse Document Frequency\n",
    "\n",
    "tfidf(w) = tf.log(N/df(w))"
   ]
  },
  {
   "cell_type": "code",
   "execution_count": 10,
   "id": "87bab86a-1b21-46c3-b8cc-c810eb53472a",
   "metadata": {
    "tags": []
   },
   "outputs": [],
   "source": [
    "import numpy as np\n",
    "from sklearn.feature_extraction.text import TfidfVectorizer"
   ]
  },
  {
   "cell_type": "code",
   "execution_count": 11,
   "id": "0ced9af4-0708-4fb7-bed3-e0b0fcac1366",
   "metadata": {
    "tags": []
   },
   "outputs": [],
   "source": [
    "text_data = np.array(['I love Brazil, Brazil!', 'Sweden is best','Germany beats both'])\n",
    "tfidf = TfidfVectorizer()\n",
    "feature_matrix = tfidf.fit_transform(text_data) #bag_of_words ----> feature_matrix"
   ]
  },
  {
   "cell_type": "code",
   "execution_count": 12,
   "id": "05fc8a57-94af-4dda-a5f1-a581dfb731a9",
   "metadata": {
    "tags": []
   },
   "outputs": [
    {
     "data": {
      "text/plain": [
       "array([[0.        , 0.        , 0.        , 0.89442719, 0.        ,\n",
       "        0.        , 0.4472136 , 0.        ],\n",
       "       [0.        , 0.57735027, 0.        , 0.        , 0.        ,\n",
       "        0.57735027, 0.        , 0.57735027],\n",
       "       [0.57735027, 0.        , 0.57735027, 0.        , 0.57735027,\n",
       "        0.        , 0.        , 0.        ]])"
      ]
     },
     "execution_count": 12,
     "metadata": {},
     "output_type": "execute_result"
    }
   ],
   "source": [
    "#we can use .toarray to see the feature matrix\n",
    "feature_matrix.toarray()"
   ]
  },
  {
   "cell_type": "code",
   "execution_count": 13,
   "id": "e628d4e7-8dda-40d7-ae53-e0d18ac2da31",
   "metadata": {
    "tags": []
   },
   "outputs": [
    {
     "data": {
      "text/plain": [
       "{'love': 6,\n",
       " 'brazil': 3,\n",
       " 'sweden': 7,\n",
       " 'is': 5,\n",
       " 'best': 1,\n",
       " 'germany': 4,\n",
       " 'beats': 0,\n",
       " 'both': 2}"
      ]
     },
     "execution_count": 13,
     "metadata": {},
     "output_type": "execute_result"
    }
   ],
   "source": [
    "tfidf.vocabulary_"
   ]
  },
  {
   "cell_type": "code",
   "execution_count": 14,
   "id": "dd87e1b7-99f7-421e-a3b4-5a9be610d0c6",
   "metadata": {
    "tags": []
   },
   "outputs": [
    {
     "data": {
      "text/html": [
       "<div>\n",
       "<style scoped>\n",
       "    .dataframe tbody tr th:only-of-type {\n",
       "        vertical-align: middle;\n",
       "    }\n",
       "\n",
       "    .dataframe tbody tr th {\n",
       "        vertical-align: top;\n",
       "    }\n",
       "\n",
       "    .dataframe thead th {\n",
       "        text-align: right;\n",
       "    }\n",
       "</style>\n",
       "<table border=\"1\" class=\"dataframe\">\n",
       "  <thead>\n",
       "    <tr style=\"text-align: right;\">\n",
       "      <th></th>\n",
       "      <th>beats</th>\n",
       "      <th>best</th>\n",
       "      <th>both</th>\n",
       "      <th>brazil</th>\n",
       "      <th>germany</th>\n",
       "      <th>is</th>\n",
       "      <th>love</th>\n",
       "      <th>sweden</th>\n",
       "    </tr>\n",
       "  </thead>\n",
       "  <tbody>\n",
       "    <tr>\n",
       "      <th>0</th>\n",
       "      <td>0.00000</td>\n",
       "      <td>0.00000</td>\n",
       "      <td>0.00000</td>\n",
       "      <td>0.894427</td>\n",
       "      <td>0.00000</td>\n",
       "      <td>0.00000</td>\n",
       "      <td>0.447214</td>\n",
       "      <td>0.00000</td>\n",
       "    </tr>\n",
       "    <tr>\n",
       "      <th>1</th>\n",
       "      <td>0.00000</td>\n",
       "      <td>0.57735</td>\n",
       "      <td>0.00000</td>\n",
       "      <td>0.000000</td>\n",
       "      <td>0.00000</td>\n",
       "      <td>0.57735</td>\n",
       "      <td>0.000000</td>\n",
       "      <td>0.57735</td>\n",
       "    </tr>\n",
       "    <tr>\n",
       "      <th>2</th>\n",
       "      <td>0.57735</td>\n",
       "      <td>0.00000</td>\n",
       "      <td>0.57735</td>\n",
       "      <td>0.000000</td>\n",
       "      <td>0.57735</td>\n",
       "      <td>0.00000</td>\n",
       "      <td>0.000000</td>\n",
       "      <td>0.00000</td>\n",
       "    </tr>\n",
       "  </tbody>\n",
       "</table>\n",
       "</div>"
      ],
      "text/plain": [
       "     beats     best     both    brazil  germany       is      love   sweden\n",
       "0  0.00000  0.00000  0.00000  0.894427  0.00000  0.00000  0.447214  0.00000\n",
       "1  0.00000  0.57735  0.00000  0.000000  0.00000  0.57735  0.000000  0.57735\n",
       "2  0.57735  0.00000  0.57735  0.000000  0.57735  0.00000  0.000000  0.00000"
      ]
     },
     "execution_count": 14,
     "metadata": {},
     "output_type": "execute_result"
    }
   ],
   "source": [
    "#bag_of_words array in to dataframe\n",
    "tff = tfidf.get_feature_names_out()\n",
    "FM = feature_matrix.toarray()\n",
    "import pandas as pd\n",
    "df = pd.DataFrame(FM, columns = tff)\n",
    "df\n"
   ]
  },
  {
   "cell_type": "code",
   "execution_count": null,
   "id": "db0428bf-4907-4b85-91db-5003e870c446",
   "metadata": {},
   "outputs": [],
   "source": []
  },
  {
   "cell_type": "code",
   "execution_count": 15,
   "id": "7750b18f-cb22-49e7-91a8-96be2f29eca2",
   "metadata": {
    "tags": []
   },
   "outputs": [],
   "source": [
    "#bigram\n",
    "\n",
    "tfidf = TfidfVectorizer(ngram_range=(1,2))\n",
    "feature_matrix = tfidf.fit_transform(text_data)"
   ]
  },
  {
   "cell_type": "code",
   "execution_count": 16,
   "id": "975a767d-2b79-465e-863f-15a8bd710109",
   "metadata": {
    "tags": []
   },
   "outputs": [
    {
     "data": {
      "text/html": [
       "<div>\n",
       "<style scoped>\n",
       "    .dataframe tbody tr th:only-of-type {\n",
       "        vertical-align: middle;\n",
       "    }\n",
       "\n",
       "    .dataframe tbody tr th {\n",
       "        vertical-align: top;\n",
       "    }\n",
       "\n",
       "    .dataframe thead th {\n",
       "        text-align: right;\n",
       "    }\n",
       "</style>\n",
       "<table border=\"1\" class=\"dataframe\">\n",
       "  <thead>\n",
       "    <tr style=\"text-align: right;\">\n",
       "      <th></th>\n",
       "      <th>beats</th>\n",
       "      <th>beats both</th>\n",
       "      <th>best</th>\n",
       "      <th>both</th>\n",
       "      <th>brazil</th>\n",
       "      <th>brazil brazil</th>\n",
       "      <th>germany</th>\n",
       "      <th>germany beats</th>\n",
       "      <th>is</th>\n",
       "      <th>is best</th>\n",
       "      <th>love</th>\n",
       "      <th>love brazil</th>\n",
       "      <th>sweden</th>\n",
       "      <th>sweden is</th>\n",
       "    </tr>\n",
       "  </thead>\n",
       "  <tbody>\n",
       "    <tr>\n",
       "      <th>0</th>\n",
       "      <td>0.000000</td>\n",
       "      <td>0.000000</td>\n",
       "      <td>0.000000</td>\n",
       "      <td>0.000000</td>\n",
       "      <td>0.755929</td>\n",
       "      <td>0.377964</td>\n",
       "      <td>0.000000</td>\n",
       "      <td>0.000000</td>\n",
       "      <td>0.000000</td>\n",
       "      <td>0.000000</td>\n",
       "      <td>0.377964</td>\n",
       "      <td>0.377964</td>\n",
       "      <td>0.000000</td>\n",
       "      <td>0.000000</td>\n",
       "    </tr>\n",
       "    <tr>\n",
       "      <th>1</th>\n",
       "      <td>0.000000</td>\n",
       "      <td>0.000000</td>\n",
       "      <td>0.447214</td>\n",
       "      <td>0.000000</td>\n",
       "      <td>0.000000</td>\n",
       "      <td>0.000000</td>\n",
       "      <td>0.000000</td>\n",
       "      <td>0.000000</td>\n",
       "      <td>0.447214</td>\n",
       "      <td>0.447214</td>\n",
       "      <td>0.000000</td>\n",
       "      <td>0.000000</td>\n",
       "      <td>0.447214</td>\n",
       "      <td>0.447214</td>\n",
       "    </tr>\n",
       "    <tr>\n",
       "      <th>2</th>\n",
       "      <td>0.447214</td>\n",
       "      <td>0.447214</td>\n",
       "      <td>0.000000</td>\n",
       "      <td>0.447214</td>\n",
       "      <td>0.000000</td>\n",
       "      <td>0.000000</td>\n",
       "      <td>0.447214</td>\n",
       "      <td>0.447214</td>\n",
       "      <td>0.000000</td>\n",
       "      <td>0.000000</td>\n",
       "      <td>0.000000</td>\n",
       "      <td>0.000000</td>\n",
       "      <td>0.000000</td>\n",
       "      <td>0.000000</td>\n",
       "    </tr>\n",
       "  </tbody>\n",
       "</table>\n",
       "</div>"
      ],
      "text/plain": [
       "      beats  beats both      best      both    brazil  brazil brazil  \\\n",
       "0  0.000000    0.000000  0.000000  0.000000  0.755929       0.377964   \n",
       "1  0.000000    0.000000  0.447214  0.000000  0.000000       0.000000   \n",
       "2  0.447214    0.447214  0.000000  0.447214  0.000000       0.000000   \n",
       "\n",
       "    germany  germany beats        is   is best      love  love brazil  \\\n",
       "0  0.000000       0.000000  0.000000  0.000000  0.377964     0.377964   \n",
       "1  0.000000       0.000000  0.447214  0.447214  0.000000     0.000000   \n",
       "2  0.447214       0.447214  0.000000  0.000000  0.000000     0.000000   \n",
       "\n",
       "     sweden  sweden is  \n",
       "0  0.000000   0.000000  \n",
       "1  0.447214   0.447214  \n",
       "2  0.000000   0.000000  "
      ]
     },
     "execution_count": 16,
     "metadata": {},
     "output_type": "execute_result"
    }
   ],
   "source": [
    "#bag_of_words array in to dataframe\n",
    "tff = tfidf.get_feature_names_out()\n",
    "FM = feature_matrix.toarray()\n",
    "import pandas as pd\n",
    "df = pd.DataFrame(FM, columns = cff)\n",
    "df\n"
   ]
  },
  {
   "cell_type": "markdown",
   "id": "28253db3-2d1e-4e92-8829-8c9ea3b451ac",
   "metadata": {},
   "source": [
    "# Special Sequences\n",
    "\\A, \\b ......"
   ]
  },
  {
   "cell_type": "code",
   "execution_count": 54,
   "id": "36ebc419-f207-4cb6-9798-06e74b501efb",
   "metadata": {
    "tags": []
   },
   "outputs": [
    {
     "name": "stdout",
     "output_type": "stream",
     "text": [
      "['The']\n",
      "[]\n"
     ]
    }
   ],
   "source": [
    "# \\A\n",
    "# going to return match cases where the string starts with specific word\n",
    "import re\n",
    "text = \"The categorical cat hello mycat\"\n",
    "text1 = \"categorical cat hello mycat\"\n",
    "print(re.findall(r'\\AThe', text))\n",
    "print(re.findall(r'\\AThe', text1))"
   ]
  },
  {
   "cell_type": "code",
   "execution_count": 26,
   "id": "3c774879-531e-44d0-be8e-8432a83c7c4a",
   "metadata": {
    "tags": []
   },
   "outputs": [
    {
     "data": {
      "text/plain": [
       "['cat', 'cat']"
      ]
     },
     "execution_count": 26,
     "metadata": {},
     "output_type": "execute_result"
    }
   ],
   "source": [
    "#\\b\n",
    "\n",
    "text = \"categorical cat hello mycat\"\n",
    "re.findall(r'\\bcat',text) #Starting of the 'word'"
   ]
  },
  {
   "cell_type": "code",
   "execution_count": 23,
   "id": "c8cb0f60-59af-4206-a58a-639367c66664",
   "metadata": {
    "tags": []
   },
   "outputs": [
    {
     "data": {
      "text/plain": [
       "['cat', 'cat']"
      ]
     },
     "execution_count": 23,
     "metadata": {},
     "output_type": "execute_result"
    }
   ],
   "source": [
    "re.findall(r'cat\\b',text) #ending with 'word'"
   ]
  },
  {
   "cell_type": "code",
   "execution_count": 27,
   "id": "fdb6a2ff-7d7a-477b-90f8-853cc7343773",
   "metadata": {
    "tags": []
   },
   "outputs": [],
   "source": [
    "matches = re.findall(r'\\bcat\\b',text) #starting and ending with text"
   ]
  },
  {
   "cell_type": "code",
   "execution_count": 30,
   "id": "5b727317-d92d-4335-b7ec-5f494ed69e01",
   "metadata": {
    "tags": []
   },
   "outputs": [
    {
     "ename": "AttributeError",
     "evalue": "'str' object has no attribute 'start'",
     "output_type": "error",
     "traceback": [
      "\u001b[0;31m---------------------------------------------------------------------------\u001b[0m",
      "\u001b[0;31mAttributeError\u001b[0m                            Traceback (most recent call last)",
      "Cell \u001b[0;32mIn[30], line 3\u001b[0m\n\u001b[1;32m      1\u001b[0m \u001b[38;5;66;03m#Write a code that returns the index of the specified pattern 'cat'\u001b[39;00m\n\u001b[1;32m      2\u001b[0m \u001b[38;5;66;03m# Get the start and end positions of each match\u001b[39;00m\n\u001b[0;32m----> 3\u001b[0m indices \u001b[38;5;241m=\u001b[39m [(m\u001b[38;5;241m.\u001b[39mstart(), m\u001b[38;5;241m.\u001b[39mend() \u001b[38;5;241m-\u001b[39m \u001b[38;5;241m1\u001b[39m) \u001b[38;5;28;01mfor\u001b[39;00m m \u001b[38;5;129;01min\u001b[39;00m matches]\n\u001b[1;32m      5\u001b[0m \u001b[38;5;66;03m# Print the indices\u001b[39;00m\n\u001b[1;32m      6\u001b[0m \u001b[38;5;28;01mfor\u001b[39;00m start, end \u001b[38;5;129;01min\u001b[39;00m indices:\n",
      "Cell \u001b[0;32mIn[30], line 3\u001b[0m, in \u001b[0;36m<listcomp>\u001b[0;34m(.0)\u001b[0m\n\u001b[1;32m      1\u001b[0m \u001b[38;5;66;03m#Write a code that returns the index of the specified pattern 'cat'\u001b[39;00m\n\u001b[1;32m      2\u001b[0m \u001b[38;5;66;03m# Get the start and end positions of each match\u001b[39;00m\n\u001b[0;32m----> 3\u001b[0m indices \u001b[38;5;241m=\u001b[39m [(m\u001b[38;5;241m.\u001b[39mstart(), m\u001b[38;5;241m.\u001b[39mend() \u001b[38;5;241m-\u001b[39m \u001b[38;5;241m1\u001b[39m) \u001b[38;5;28;01mfor\u001b[39;00m m \u001b[38;5;129;01min\u001b[39;00m matches]\n\u001b[1;32m      5\u001b[0m \u001b[38;5;66;03m# Print the indices\u001b[39;00m\n\u001b[1;32m      6\u001b[0m \u001b[38;5;28;01mfor\u001b[39;00m start, end \u001b[38;5;129;01min\u001b[39;00m indices:\n",
      "\u001b[0;31mAttributeError\u001b[0m: 'str' object has no attribute 'start'"
     ]
    }
   ],
   "source": [
    "#Write a code that returns the index of the specified pattern 'cat'\n",
    "# Get the start and end positions of each match\n",
    "indices = [(m.start(), m.end() - 1) for m in matches]\n",
    "\n",
    "# Print the indices\n",
    "for start, end in indices:\n",
    "    print(f\"Found 'cat' at index {start} to {end}\")\n"
   ]
  },
  {
   "cell_type": "code",
   "execution_count": 31,
   "id": "4953a60b-13d8-4688-8b27-23092f0a2df5",
   "metadata": {
    "tags": []
   },
   "outputs": [
    {
     "name": "stdout",
     "output_type": "stream",
     "text": [
      "[]\n",
      "['zi']\n"
     ]
    }
   ],
   "source": [
    "text1 = 'This is an amazing classroom, everyone speaks ENGLISH zizazo!'\n",
    "text2 = 'This is a good classroom, every one speaks ENGLISH zizxzd!!'\n",
    "print(re.findall(r'\\Bzi', text)) # return the pattern if not at the begining of the word\n",
    "print(re.findall(r'\\Bzi', text1))"
   ]
  },
  {
   "cell_type": "code",
   "execution_count": 32,
   "id": "b5ccaf44-0be2-410b-95e0-eaa6afd123da",
   "metadata": {
    "tags": []
   },
   "outputs": [
    {
     "name": "stdout",
     "output_type": "stream",
     "text": [
      "['class']\n"
     ]
    }
   ],
   "source": [
    "text1 = 'This is an amazing classroom, everyone speaks ENGLISH. This is Highclass!'\n",
    "print(re.findall(r'\\Bclass', text1)) # The o\\p is from Highclass"
   ]
  },
  {
   "cell_type": "code",
   "execution_count": null,
   "id": "930b86b0-ae7c-4c67-8484-695e7048cb95",
   "metadata": {},
   "outputs": [],
   "source": [
    "text1 = 'This is an amazing classroom, everyone speaks ENGLISH.'\n",
    "print(re.findall(r'\\Bclass', text1)) # The o\\p is from classroom bcuz class in the above string is always at the begining"
   ]
  },
  {
   "cell_type": "code",
   "execution_count": 37,
   "id": "05d8755c-7ddb-4ad5-9bc2-34c9a9e04f2d",
   "metadata": {
    "tags": []
   },
   "outputs": [
    {
     "name": "stdout",
     "output_type": "stream",
     "text": [
      "['class', 'class']\n"
     ]
    }
   ],
   "source": [
    "text1 = 'This is an amazing classroom, everyone speaks ENGLISH. classy'\n",
    "print(re.findall(r'class\\B', text1)) # The o\\p is from classroom and classy #because is not at the end of the word"
   ]
  },
  {
   "cell_type": "code",
   "execution_count": 40,
   "id": "8527b044-37ee-45a3-875c-c5aff2a3e1b8",
   "metadata": {
    "tags": []
   },
   "outputs": [
    {
     "name": "stdout",
     "output_type": "stream",
     "text": [
      "['class', 'class']\n"
     ]
    }
   ],
   "source": [
    "text1 = 'This is an amazing 2classroom, everyone speaks ENGLISH. sclassy'\n",
    "print(re.findall(r'\\Bclass\\B', text1)) #if its not at begining and ending"
   ]
  },
  {
   "cell_type": "code",
   "execution_count": null,
   "id": "8a96c485-ed89-4c62-9e9f-b22d13a3bb52",
   "metadata": {},
   "outputs": [],
   "source": []
  },
  {
   "cell_type": "code",
   "execution_count": 43,
   "id": "861f22a8-ffe9-45e2-85fd-2bc937de67cd",
   "metadata": {
    "tags": []
   },
   "outputs": [
    {
     "name": "stdout",
     "output_type": "stream",
     "text": [
      "['2', '1', '2', '3']\n"
     ]
    }
   ],
   "source": [
    "#\\d - digits are return\n",
    "#\\D = Non digits are returned\n",
    "\n",
    "text1 = 'This is an amazing 2classroom, everyone speaks ENGLISH 123. sclassy'\n",
    "print(re.findall(r'\\d', text1))"
   ]
  },
  {
   "cell_type": "code",
   "execution_count": 44,
   "id": "dadb4639-1664-49c2-bd3a-4cd74a2f95bf",
   "metadata": {
    "tags": []
   },
   "outputs": [
    {
     "name": "stdout",
     "output_type": "stream",
     "text": [
      "['T', 'h', 'i', 's', ' ', 'i', 's', ' ', 'a', 'n', ' ', 'a', 'm', 'a', 'z', 'i', 'n', 'g', ' ', 'c', 'l', 'a', 's', 's', 'r', 'o', 'o', 'm', ',', ' ', 'e', 'v', 'e', 'r', 'y', 'o', 'n', 'e', ' ', 's', 'p', 'e', 'a', 'k', 's', ' ', 'E', 'N', 'G', 'L', 'I', 'S', 'H', ' ', '.', ' ', 's', 'c', 'l', 'a', 's', 's', 'y']\n"
     ]
    }
   ],
   "source": [
    "text1 = 'This is an amazing 2classroom, everyone speaks ENGLISH 123. sclassy'\n",
    "print(re.findall(r'\\D', text1))"
   ]
  },
  {
   "cell_type": "code",
   "execution_count": 49,
   "id": "295000d8-3de3-4d9c-9658-4e05a10f6f89",
   "metadata": {
    "tags": []
   },
   "outputs": [
    {
     "name": "stdout",
     "output_type": "stream",
     "text": [
      "[' ', ' ', ' ', ' ', ' ', ' ', ' ', ' ', ' ']\n",
      "9\n",
      "9\n"
     ]
    }
   ],
   "source": [
    "#\\s - return all white spaces\n",
    "text1 = 'This is an amazing 2classroom, everyone speaks ENGLISH 123. sclassy'\n",
    "print(re.findall('\\s', text1))\n",
    "print(len(re.findall('\\s', text1)))\n",
    "print(len(re.findall(' ', text1)))"
   ]
  },
  {
   "cell_type": "code",
   "execution_count": 48,
   "id": "7360d441-c2dc-494e-89b9-b10a73ffb5c8",
   "metadata": {
    "tags": []
   },
   "outputs": [
    {
     "name": "stdout",
     "output_type": "stream",
     "text": [
      "['T', 'h', 'i', 's', 'i', 's', 'a', 'n', 'a', 'm', 'a', 'z', 'i', 'n', 'g', '2', 'c', 'l', 'a', 's', 's', 'r', 'o', 'o', 'm', ',', 'e', 'v', 'e', 'r', 'y', 'o', 'n', 'e', 's', 'p', 'e', 'a', 'k', 's', 'E', 'N', 'G', 'L', 'I', 'S', 'H', '1', '2', '3', '.', 's', 'c', 'l', 'a', 's', 's', 'y']\n",
      "58\n"
     ]
    }
   ],
   "source": [
    "#\\S count all letters that are not white space\n",
    "text1 = 'This is an amazing 2classroom, everyone speaks ENGLISH 123. sclassy'\n",
    "print(re.findall('\\S', text1))\n",
    "print(len(re.findall('\\S', text1)))"
   ]
  },
  {
   "cell_type": "code",
   "execution_count": 51,
   "id": "d1527cb0-40c2-498a-9300-246d8fa97531",
   "metadata": {
    "tags": []
   },
   "outputs": [
    {
     "name": "stdout",
     "output_type": "stream",
     "text": [
      "['2', '22', '2', '4', '123']\n"
     ]
    }
   ],
   "source": [
    "#\\d+ to get whole number 123\n",
    "text1 = 'This is an amazing 2classroom, 22everyone 2 4speaks ENGLISH 123. sclassy'\n",
    "print(re.findall(r'\\d+', text1))"
   ]
  },
  {
   "cell_type": "code",
   "execution_count": 65,
   "id": "1fe314ed-72fe-4976-ac3d-aac58ced7290",
   "metadata": {
    "tags": []
   },
   "outputs": [
    {
     "name": "stdout",
     "output_type": "stream",
     "text": [
      "['This is an amazing, classroom, ', ',', 'everyone. ', ' ', 'speaks ENGLISH ', '. sclassy!!']\n"
     ]
    },
    {
     "data": {
      "text/plain": [
       "'This is an amazing, classroom, ,everyone.  speaks ENGLISH . sclassy!!'"
      ]
     },
     "execution_count": 65,
     "metadata": {},
     "output_type": "execute_result"
    }
   ],
   "source": [
    "#\\D+ to get whole number 123\n",
    "match = re.findall(r'\\D+', text1)\n",
    "print(match)\n",
    "\"\".join(match)\n"
   ]
  },
  {
   "cell_type": "code",
   "execution_count": 67,
   "id": "445ada3a-73ce-4003-b8f8-4ec7f792370b",
   "metadata": {
    "tags": []
   },
   "outputs": [
    {
     "name": "stdout",
     "output_type": "stream",
     "text": [
      "['T', 'h', 'i', 's', 'i', 's', 'a', 'n', 'a', 'm', 'a', 'z', 'i', 'n', 'g', 'c', 'l', 'a', 's', 's', 'r', 'o', 'o', 'm', '2', '2', 'e', 'v', 'e', 'r', 'y', 'o', 'n', 'e', '2', '4', 's', 'p', 'e', 'a', 'k', 's', 'E', 'N', 'G', 'L', 'I', 'S', 'H', '1', '2', '3', 's', 'c', 'l', 'a', 's', 's', 'y']\n",
      "Thisisanamazingclassroom22everyone24speaksENGLISH123sclassy\n"
     ]
    }
   ],
   "source": [
    "#\\w = . , ! and white spacesnare not included\n",
    "text1 = 'This is an amazing, classroom, 2,2everyone. 2 4speaks ENGLISH 123. sclassy!!'\n",
    "matches = re.findall('\\w', text1)\n",
    "print(matches)\n",
    "print(\"\".join(matches))"
   ]
  },
  {
   "cell_type": "code",
   "execution_count": 58,
   "id": "df7865d3-80a8-4e12-86fb-93e2fd7c1518",
   "metadata": {
    "tags": []
   },
   "outputs": [
    {
     "name": "stdout",
     "output_type": "stream",
     "text": [
      "[' ', ' ', ' ', ',', ' ', ',', ' ', ',', '.', ' ', ' ', ' ', ' ', '.', ' ', '!', '!']\n"
     ]
    }
   ],
   "source": [
    "#\\W = . , ! and white spacesnare not included\n",
    "text1 = 'This is an amazing, classroom, 2,2everyone. 2 4speaks ENGLISH 123. sclassy!!'\n",
    "print(re.findall('\\W', text1))"
   ]
  },
  {
   "cell_type": "code",
   "execution_count": 79,
   "id": "75c06e41-e943-479f-b7dd-25099ccfe0e8",
   "metadata": {
    "tags": []
   },
   "outputs": [
    {
     "name": "stdout",
     "output_type": "stream",
     "text": [
      "['classy']\n",
      "['english']\n"
     ]
    }
   ],
   "source": [
    "#\\Z\n",
    "text1 = 'This is an amazing, classroom, everyone. speaks ENGLISH 123. classy'\n",
    "print(re.findall('classy\\Z', text1)) #return the word(the word classy) if at the end\n",
    "\n",
    "text1 = 'This is an amazing, classroom, 2,2everyone classy. 2 4speaks ENGLISH 123. english'\n",
    "print(re.findall('english\\Z', text1))"
   ]
  },
  {
   "cell_type": "markdown",
   "id": "c7c2975d-03f0-4d90-a28b-e749397037fe",
   "metadata": {
    "tags": []
   },
   "source": [
    "# Meta Characters\n",
    "[] \\ .. ^ $ * + {} | ()"
   ]
  },
  {
   "cell_type": "code",
   "execution_count": 83,
   "id": "b83caabe-5816-4009-b920-c7889d3053c5",
   "metadata": {
    "tags": []
   },
   "outputs": [
    {
     "name": "stdout",
     "output_type": "stream",
     "text": [
      "['h', 'i', 'i', 'a', 'n', 'a', 'm', 'a', 'i', 'n', 'g', 'c', 'l', 'a', 'o', 'o', 'm', 'e', 'e', 'o', 'n', 'e', 'p', 'e', 'a', 'k', 'q', 'c', 'l', 'a']\n",
      "10\n"
     ]
    }
   ],
   "source": [
    "#[m-q] # return the words between m-q\n",
    "text1 = 'This is an amazing, class_room, every one speaks ENGLISH 123 q. classy'\n",
    "print(re.findall('[m-q]', text1)) \n",
    "print(len(re.findall('[m-q]', text1)))"
   ]
  },
  {
   "cell_type": "code",
   "execution_count": 84,
   "id": "b29ed707-6c36-4a25-b78f-fec69d3607ee",
   "metadata": {
    "tags": []
   },
   "outputs": [
    {
     "name": "stdout",
     "output_type": "stream",
     "text": [
      "['E', 'G', 'I', 'H']\n",
      "4\n"
     ]
    }
   ],
   "source": [
    "#[M-Q]\n",
    "text1 = 'This is an amazing, class_room, every one speaks ENGLISH 123 q. classy'\n",
    "print(re.findall('[D-I]', text1))\n",
    "print(len(re.findall('[D-I]', text1)))"
   ]
  },
  {
   "cell_type": "code",
   "execution_count": 89,
   "id": "5b1a5946-60e3-4dc1-a5ef-f68801a0a779",
   "metadata": {
    "tags": []
   },
   "outputs": [
    {
     "name": "stdout",
     "output_type": "stream",
     "text": [
      "['NPO']\n",
      "1\n"
     ]
    }
   ],
   "source": [
    "text1 = 'This is an amazing, class_room, every one speaks ENPOGLISH 123 q. classy'\n",
    "print(re.findall('[M-Q]+', text1))\n",
    "print(len(re.findall('[M-Q]+', text1)))"
   ]
  },
  {
   "cell_type": "code",
   "execution_count": 87,
   "id": "b3c3c9e7-b506-4395-88b3-36ce2da78192",
   "metadata": {
    "tags": []
   },
   "outputs": [
    {
     "name": "stdout",
     "output_type": "stream",
     "text": [
      "['n', 'm', 'n', 'oom', 'on', 'p', 'q']\n",
      "7\n"
     ]
    }
   ],
   "source": [
    "#[m-q] # return the words between m-q\n",
    "text1 = 'This is an amazing, class_room, every one speaks ENGLISH 123 q. classy'\n",
    "print(re.findall('[m-q]+', text1)) \n",
    "print(len(re.findall('[m-q]+', text1)))"
   ]
  },
  {
   "cell_type": "code",
   "execution_count": 92,
   "id": "0a48dd70-1c4c-4f70-a799-53ada787b2a0",
   "metadata": {
    "tags": []
   },
   "outputs": [
    {
     "name": "stdout",
     "output_type": "stream",
     "text": [
      "['class', 'class', 'c  !s']\n",
      "3\n"
     ]
    }
   ],
   "source": [
    "#.(dot)\n",
    "text1 = 'This is an amazing, class_room, every one speaks ENGLISH 123 q. classy c  !s'\n",
    "print(re.findall('c...s', text1)) \n",
    "print(len(re.findall('c...s+', text1)))"
   ]
  },
  {
   "cell_type": "code",
   "execution_count": 95,
   "id": "8f9d3964-13ca-4dd0-8e1e-97b4c4a36600",
   "metadata": {
    "tags": []
   },
   "outputs": [
    {
     "name": "stdout",
     "output_type": "stream",
     "text": [
      "['Th']\n",
      "1\n"
     ]
    }
   ],
   "source": [
    "# ^\n",
    "text1 = 'This is an amazing, class_room, every one speaks ENGLISH 123 q. classy The c. s'\n",
    "print(re.findall('^Th', text1)) #start of string not every word \n",
    "print(len(re.findall('^Th', text1)))"
   ]
  },
  {
   "cell_type": "code",
   "execution_count": 96,
   "id": "bf8c644f-d603-485f-8792-3d737934dee9",
   "metadata": {
    "tags": []
   },
   "outputs": [
    {
     "name": "stdout",
     "output_type": "stream",
     "text": [
      "[]\n",
      "0\n"
     ]
    }
   ],
   "source": [
    "text1 = 'Tat is an amazing, class_room, every one speaks ENGLISH 123 q. classy The c   s'\n",
    "print(re.findall('^Th', text1)) #Looks for string\n",
    "print(len(re.findall('^Th', text1)))"
   ]
  },
  {
   "cell_type": "code",
   "execution_count": 98,
   "id": "273771ad-4a17-415a-b07d-188634504e51",
   "metadata": {
    "tags": []
   },
   "outputs": [
    {
     "name": "stdout",
     "output_type": "stream",
     "text": [
      "['T']\n",
      "1\n"
     ]
    }
   ],
   "source": [
    "# |\n",
    "text1 = 'Tat is an amazing, class_room, every one speaks ENGLISH 123 q. classy The c   s'\n",
    "print(re.findall('^A|^T', text1)) #Looks for string, if the first condition is met that is returned\n",
    "print(len(re.findall('^A|^T', text1)))"
   ]
  },
  {
   "cell_type": "code",
   "execution_count": 102,
   "id": "95646d5d-5075-4d41-8be9-60125ae4b344",
   "metadata": {
    "tags": []
   },
   "outputs": [
    {
     "name": "stdout",
     "output_type": "stream",
     "text": [
      "[]\n",
      "0\n"
     ]
    }
   ],
   "source": [
    "text1 = 'ETat is an amazing, class_room, every one speaks ENGLISH 123 q. classy The c   s'\n",
    "print(re.findall('^A|^T', text1)) #Looks for string, if the first condition is met that is returned\n",
    "print(len(re.findall('^A|^T', text1)))"
   ]
  },
  {
   "cell_type": "code",
   "execution_count": 104,
   "id": "2383e439-8544-4cf8-8908-1439cb78a3e2",
   "metadata": {
    "tags": []
   },
   "outputs": [
    {
     "name": "stdout",
     "output_type": "stream",
     "text": [
      "['+', '+', '+']\n",
      "3\n"
     ]
    }
   ],
   "source": [
    "#[+]\n",
    "text1 = 'ETat is an amazing++, class_room, every one speaks ENGLISH 123 q. classy The c  +/ s'\n",
    "print(re.findall('[+]', text1)) \n",
    "print(len(re.findall('[+]', text1)))"
   ]
  },
  {
   "cell_type": "code",
   "execution_count": 105,
   "id": "fb198058-40c0-4c80-9a32-fc95c07f863f",
   "metadata": {
    "tags": []
   },
   "outputs": [
    {
     "name": "stdout",
     "output_type": "stream",
     "text": [
      "['++', '+']\n",
      "2\n"
     ]
    }
   ],
   "source": [
    "#[+]\n",
    "text1 = 'ETat is an amazing++, class_room, every one speaks ENGLISH 123 q. classy The c  +/ s'\n",
    "print(re.findall('[+]+', text1)) \n",
    "print(len(re.findall('[+]+', text1)))"
   ]
  },
  {
   "cell_type": "code",
   "execution_count": 108,
   "id": "9e5b82bf-7756-4c2f-92f2-75ef389101f7",
   "metadata": {
    "tags": []
   },
   "outputs": [
    {
     "name": "stdout",
     "output_type": "stream",
     "text": [
      "1 [('1', '30'), ('12', '30'), ('1', '5'), ('12', '5')]\n",
      "2 [('12', '30')]\n",
      "3 [('1', '30'), ('12', '30')]\n",
      "4 [('12', '30'), ('12', '5')]\n"
     ]
    }
   ],
   "source": [
    "#?\n",
    "text = '\\yes 1:30 no 12:30 maybe 1:5 test me 12:5'\n",
    "print(1, re.findall(r'(\\d?\\d):(\\d?\\d)', text)) #\\d? zero occurance of digit or one occurance\n",
    "print(2, re.findall(r'(\\d\\d):(\\d\\d)', text))\n",
    "print(3, re.findall(r'(\\d?\\d):(\\d\\d)', text))\n",
    "print(4, re.findall(r'(\\d\\d):(\\d?\\d)', text))"
   ]
  },
  {
   "cell_type": "code",
   "execution_count": 111,
   "id": "216e98f7-6349-4fee-b7dd-db28dad13279",
   "metadata": {
    "tags": []
   },
   "outputs": [
    {
     "name": "stdout",
     "output_type": "stream",
     "text": [
      "1 [('1', '30'), ('1233', '30'), ('1', '5'), ('12', '5')]\n",
      "2 [('33', '30')]\n",
      "3 [('1', '30'), ('33', '30')]\n",
      "4 [('33', '30'), ('12', '5')]\n"
     ]
    }
   ],
   "source": [
    "#*\n",
    "text = '\\yes 1:30 no 1233:30 maybe 1:5 test me 12:5'\n",
    "print(1, re.findall(r'(\\d*\\d):(\\d*\\d)', text)) #\\d* zero occurance of digit or many occurance\n",
    "print(2, re.findall(r'(\\d\\d):(\\d\\d)', text))\n",
    "print(3, re.findall(r'(\\d?\\d):(\\d\\d)', text))\n",
    "print(4, re.findall(r'(\\d\\d):(\\d?\\d)', text))"
   ]
  },
  {
   "cell_type": "code",
   "execution_count": 113,
   "id": "8e517fd0-340b-46d1-b6ee-f3c03b06983e",
   "metadata": {
    "tags": []
   },
   "outputs": [
    {
     "name": "stdout",
     "output_type": "stream",
     "text": [
      "['12', '89', '34']\n"
     ]
    }
   ],
   "source": [
    "text = 'hello 12 hi 89, Howdy 34'\n",
    "pattern = '\\d+'\n",
    "result = re.findall(pattern, text)\n",
    "print(result)"
   ]
  },
  {
   "cell_type": "code",
   "execution_count": 114,
   "id": "211ddafe-a413-42e5-bcea-1a143c20cc89",
   "metadata": {
    "tags": []
   },
   "outputs": [
    {
     "name": "stdout",
     "output_type": "stream",
     "text": [
      "abc12de23,Howdyd346\n"
     ]
    }
   ],
   "source": [
    "text = 'abc 12 de 23, Howdy d34 6'\n",
    "pattern = '\\s+'\n",
    "replace=''\n",
    "result = re.sub(pattern, replace,text)\n",
    "print(result)"
   ]
  },
  {
   "cell_type": "code",
   "execution_count": 115,
   "id": "5ede13a3-a075-41a8-b151-dc2eebb4d71c",
   "metadata": {
    "tags": []
   },
   "outputs": [
    {
     "data": {
      "text/plain": [
       "[]"
      ]
     },
     "execution_count": 115,
     "metadata": {},
     "output_type": "execute_result"
    }
   ],
   "source": [
    "text = '#UNSG @ NY Society for Ethyical Culture bit.ly/2gyuu @UN @UN_Women '\n",
    "tokens = text.split()\n",
    "[w for w in tokens if re.search('@[a-zA_Z]+', w)]"
   ]
  },
  {
   "cell_type": "code",
   "execution_count": null,
   "id": "04491163-2f3a-46d1-8e14-b64ebd5547d7",
   "metadata": {},
   "outputs": [],
   "source": []
  }
 ],
 "metadata": {
  "kernelspec": {
   "display_name": "Python 3 (ipykernel)",
   "language": "python",
   "name": "python3"
  },
  "language_info": {
   "codemirror_mode": {
    "name": "ipython",
    "version": 3
   },
   "file_extension": ".py",
   "mimetype": "text/x-python",
   "name": "python",
   "nbconvert_exporter": "python",
   "pygments_lexer": "ipython3",
   "version": "3.11.5"
  }
 },
 "nbformat": 4,
 "nbformat_minor": 5
}
